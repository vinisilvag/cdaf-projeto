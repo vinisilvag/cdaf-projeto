{
 "cells": [
  {
   "cell_type": "markdown",
   "id": "8b9b79d9-e52b-4f9a-acb6-a5befab864df",
   "metadata": {},
   "source": [
    "# Análise e Predição de Química entre Jogadores de Futebol\n",
    "\n",
    "Grupo: Gabriel Castelo, Matheus Vaz, Victor Kenji e Vinicius Gomes"
   ]
  },
  {
   "cell_type": "code",
   "execution_count": null,
   "id": "dd1b58b3-d3da-4130-80a3-b830eaa46d42",
   "metadata": {},
   "outputs": [],
   "source": [
    "import numpy as np\n",
    "import pandas as pd\n",
    "from tqdm import tqdm\n",
    "import socceraction.spadl as spd\n",
    "pd.set_option('future.no_silent_downcasting', True)"
   ]
  },
  {
   "cell_type": "code",
   "execution_count": null,
   "id": "706da1d4-fd28-4c16-aaa0-363a2ea52518",
   "metadata": {},
   "outputs": [],
   "source": [
    "def load_matches(path):\n",
    "    matches = pd.read_json(path_or_buf=path)\n",
    "    # as informações dos times de cada partida estão em um dicionário dentro da coluna 'teamsData', então vamos separar essas informações\n",
    "    team_matches = []\n",
    "    for i in range(len(matches)):\n",
    "        match = pd.DataFrame(matches.loc[i, 'teamsData']).T\n",
    "        match['matchId'] = matches.loc[i, 'wyId']\n",
    "        team_matches.append(match)\n",
    "    team_matches = pd.concat(team_matches).reset_index(drop=True)\n",
    "    return team_matches\n",
    "\n",
    "def load_players(path):\n",
    "    players = pd.read_json(path_or_buf=path)\n",
    "    players['player_name'] = players['firstName'] + ' ' + players['lastName']\n",
    "    players = players[['wyId', 'player_name']].rename(columns={'wyId': 'player_id'})\n",
    "    return players\n",
    "\n",
    "def load_events(path):\n",
    "    events = pd.read_json(path_or_buf=path)\n",
    "    # pré processamento em colunas da tabela de eventos para facilitar a conversão p/ SPADL\n",
    "    events = events.rename(columns={\n",
    "        'id': 'event_id',\n",
    "        'eventId': 'type_id',\n",
    "        'subEventId': 'subtype_id',\n",
    "        'teamId': 'team_id',\n",
    "        'playerId': 'player_id',\n",
    "        'matchId': 'game_id'\n",
    "    })\n",
    "    events['milliseconds'] = events['eventSec'] * 1000\n",
    "    events['period_id'] = events['matchPeriod'].replace({'1H': 1, '2H': 2})\n",
    "    return events\n",
    "\n",
    "# def load_minutes_played_per_game(path):\n",
    "#     minutes = pd.read_json(path_or_buf=path)\n",
    "#     minutes = minutes.rename(columns={\n",
    "#         'playerId': 'player_id',\n",
    "#         'matchId': 'game_id',\n",
    "#         'teamId': 'team_id',\n",
    "#         'minutesPlayed': 'minutes_played'\n",
    "#     })\n",
    "#     minutes = minutes.drop(['shortName', 'teamName', 'red_card'], axis=1)\n",
    "#     return minutes"
   ]
  },
  {
   "cell_type": "code",
   "execution_count": null,
   "id": "089da76c-a97b-4882-9d6f-b0a5b236310d",
   "metadata": {},
   "outputs": [],
   "source": [
    "leagues = ['England', 'Spain', 'Germany', 'Italy']\n",
    "events = {}\n",
    "matches = {}\n",
    "# minutes = {}\n",
    "for league in tqdm(leagues):\n",
    "    path = r'data/matches/matches_{}.json'.format(league)\n",
    "    matches[league] = load_matches(path)\n",
    "    path = r'data/events/events_{}.json'.format(league)\n",
    "    events[league] = load_events(path)\n",
    "    # path = r'data/minutes_played_per_game_{}.json'.format(league)\n",
    "    # minutes[league] = load_minutes_played_per_game(path)\n",
    "\n",
    "path = r'data/players.json'\n",
    "players = load_players(path)\n",
    "players['player_name'] = players['player_name'].str.decode('unicode-escape')"
   ]
  },
  {
   "cell_type": "markdown",
   "id": "8861984e-51b1-4f1f-83fe-fca1c9825846",
   "metadata": {},
   "source": [
    "## Mapeamento para SPADL"
   ]
  },
  {
   "cell_type": "code",
   "execution_count": null,
   "id": "965b0a46-9841-46a7-a083-0b95f9f7e899",
   "metadata": {},
   "outputs": [],
   "source": [
    "def spadl_transform(events, matches):\n",
    "    spadl = []\n",
    "    game_ids = events.game_id.unique().tolist()\n",
    "    for g in tqdm(game_ids):\n",
    "        match_events = events.loc[events.game_id == g]\n",
    "        match_home_id = matches.loc[(matches.matchId == g) & (matches.side == 'home'), 'teamId'].values[0]\n",
    "        match_actions = spd.wyscout.convert_to_actions(events=match_events, home_team_id=match_home_id)\n",
    "        match_actions = spd.play_left_to_right(actions=match_actions, home_team_id=match_home_id)\n",
    "        match_actions = spd.add_names(match_actions)\n",
    "        spadl.append(match_actions)\n",
    "    spadl = pd.concat(spadl).reset_index(drop=True)\n",
    "    return spadl"
   ]
  },
  {
   "cell_type": "code",
   "execution_count": null,
   "id": "dc620b65-4e72-45f0-aa64-2afb4b3a10c9",
   "metadata": {},
   "outputs": [],
   "source": [
    "spadl = {}\n",
    "for league in leagues:\n",
    "    spadl[league] = spadl_transform(events=events[league], matches=matches[league])\n",
    "    # Adicionando o nome dos players\n",
    "    spadl[league] = spadl[league].merge(players[['player_id', 'player_name']], on='player_id', how='left')"
   ]
  },
  {
   "cell_type": "markdown",
   "id": "086379e7-b60c-42a8-b66e-0e88882714a8",
   "metadata": {},
   "source": [
    "## Análise exploratória"
   ]
  },
  {
   "cell_type": "code",
   "execution_count": null,
   "id": "bd0e51f3-c915-4d63-9dca-f0c61809f04e",
   "metadata": {},
   "outputs": [],
   "source": []
  }
 ],
 "metadata": {
  "kernelspec": {
   "display_name": "Python 3 (ipykernel)",
   "language": "python",
   "name": "python3"
  },
  "language_info": {
   "codemirror_mode": {
    "name": "ipython",
    "version": 3
   },
   "file_extension": ".py",
   "mimetype": "text/x-python",
   "name": "python",
   "nbconvert_exporter": "python",
   "pygments_lexer": "ipython3",
   "version": "3.12.3"
  }
 },
 "nbformat": 4,
 "nbformat_minor": 5
}
