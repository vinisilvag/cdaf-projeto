{
 "cells": [
  {
   "cell_type": "markdown",
   "id": "8b9b79d9-e52b-4f9a-acb6-a5befab864df",
   "metadata": {},
   "source": [
    "# Análise e Predição de Química entre Jogadores de Futebol\n",
    "\n",
    "Grupo: Gabriel Castelo, Matheus Vaz, Victor Kenji e Vinicius Gomes"
   ]
  },
  {
   "cell_type": "code",
   "execution_count": 2,
   "id": "dd1b58b3-d3da-4130-80a3-b830eaa46d42",
   "metadata": {},
   "outputs": [],
   "source": [
    "import numpy as np\n",
    "import pandas as pd\n",
    "from tqdm import tqdm\n",
    "import socceraction.spadl as spd\n",
    "from bs4 import BeautifulSoup\n",
    "import requests\n",
    "\n",
    "pd.set_option('future.no_silent_downcasting', True)"
   ]
  },
  {
   "cell_type": "code",
   "execution_count": 3,
   "id": "35a6910b",
   "metadata": {},
   "outputs": [],
   "source": [
    "# import requests\n",
    "# from bs4 import BeautifulSoup, Comment\n",
    "# import pandas as pd\n",
    "\n",
    "# ligas = []\n",
    "\n",
    "# stats = []\n",
    "\n",
    "# # URL da tabela\n",
    "# url = f'https://fbref.com/pt/comps/9/2017-2018/{stats[i]}/2017-2018-{ligas[i]}-estatisticas'\n",
    "\n",
    "# # Headers para simular um navegador\n",
    "# headers = {\n",
    "#     'User-Agent': 'Mozilla/5.0'\n",
    "# }\n",
    "\n",
    "# # Faz requisição\n",
    "# response = requests.get(url, headers=headers)\n",
    "# soup = BeautifulSoup(response.text, 'html.parser')\n",
    "\n",
    "# # A tabela está dentro de um comentário HTML\n",
    "# comments = soup.find_all(string=lambda text: isinstance(text, Comment))\n",
    "\n",
    "# # Busca pela tabela dentro dos comentários\n",
    "# table = None\n",
    "# for comment in comments:\n",
    "#     comment_soup = BeautifulSoup(comment, 'html.parser')\n",
    "#     table = comment_soup.find('table', id='stats_defense')\n",
    "#     if table:\n",
    "#         break\n",
    "\n",
    "# # Se tabela foi encontrada, extrair os dados\n",
    "# if not table:\n",
    "#     raise ValueError('Tabela stats_defense não encontrada!')\n",
    "\n",
    "# # Extrair cabeçalhos\n",
    "# headers = [th.text.strip() for th in table.find('thead').find_all('th')]\n",
    "# headers = headers[1:]  # ignora a coluna do checkbox\n",
    "\n",
    "# # Extrair dados do corpo da tabela\n",
    "# data = []\n",
    "# for row in table.find('tbody').find_all('tr'):\n",
    "#     # Ignora linhas de subtítulos\n",
    "#     if row.get('class') and 'thead' in row.get('class'):\n",
    "#         continue\n",
    "#     cells = [td.text.strip() for td in row.find_all('td')]\n",
    "#     if cells:\n",
    "#         data.append(dict(zip(headers, cells)))\n",
    "\n",
    "# # Converter para DataFrame\n",
    "# df = pd.DataFrame(data)\n",
    "\n",
    "# df.head()"
   ]
  },
  {
   "cell_type": "code",
   "execution_count": 4,
   "id": "706da1d4-fd28-4c16-aaa0-363a2ea52518",
   "metadata": {},
   "outputs": [],
   "source": [
    "def load_matches(path):\n",
    "    matches = pd.read_json(path_or_buf=path)\n",
    "    # as informações dos times de cada partida estão em um dicionário dentro da coluna 'teamsData', então vamos separar essas informações\n",
    "    team_matches = []\n",
    "    for i in range(len(matches)):\n",
    "        match = pd.DataFrame(matches.loc[i, 'teamsData']).T\n",
    "        match['matchId'] = matches.loc[i, 'wyId']\n",
    "        team_matches.append(match)\n",
    "    team_matches = pd.concat(team_matches).reset_index(drop=True)\n",
    "    return team_matches\n",
    "\n",
    "def load_players(path):\n",
    "    players = pd.read_json(path_or_buf=path)\n",
    "    players['player_name'] = players['firstName'] + ' ' + players['lastName']\n",
    "    players = players[['wyId', 'player_name']].rename(columns={'wyId': 'player_id'})\n",
    "    return players\n",
    "\n",
    "def load_events(path):\n",
    "    events = pd.read_json(path_or_buf=path)\n",
    "    # pré processamento em colunas da tabela de eventos para facilitar a conversão p/ SPADL\n",
    "    events = events.rename(columns={\n",
    "        'id': 'event_id',\n",
    "        'eventId': 'type_id',\n",
    "        'subEventId': 'subtype_id',\n",
    "        'teamId': 'team_id',\n",
    "        'playerId': 'player_id',\n",
    "        'matchId': 'game_id'\n",
    "    })\n",
    "    events['milliseconds'] = events['eventSec'] * 1000\n",
    "    events['period_id'] = events['matchPeriod'].replace({'1H': 1, '2H': 2})\n",
    "    return events\n",
    "\n",
    "# def load_minutes_played_per_game(path):\n",
    "#     minutes = pd.read_json(path_or_buf=path)\n",
    "#     minutes = minutes.rename(columns={\n",
    "#         'playerId': 'player_id',\n",
    "#         'matchId': 'game_id',\n",
    "#         'teamId': 'team_id',\n",
    "#         'minutesPlayed': 'minutes_played'\n",
    "#     })\n",
    "#     minutes = minutes.drop(['shortName', 'teamName', 'red_card'], axis=1)\n",
    "#     return minutes"
   ]
  },
  {
   "cell_type": "code",
   "execution_count": 5,
   "id": "089da76c-a97b-4882-9d6f-b0a5b236310d",
   "metadata": {},
   "outputs": [
    {
     "name": "stderr",
     "output_type": "stream",
     "text": [
      "  0%|          | 0/1 [00:00<?, ?it/s]"
     ]
    },
    {
     "name": "stderr",
     "output_type": "stream",
     "text": [
      "100%|██████████| 1/1 [00:05<00:00,  5.34s/it]\n"
     ]
    }
   ],
   "source": [
    "leagues = ['England']\n",
    "events = {}\n",
    "matches = {}\n",
    "# minutes = {}\n",
    "for league in tqdm(leagues):\n",
    "    path = r'data/matches/matches_{}.json'.format(league)\n",
    "    matches[league] = load_matches(path)\n",
    "    path = r'data/events/events_{}.json'.format(league)\n",
    "    events[league] = load_events(path)\n",
    "    # path = r'data/minutes_played_per_game_{}.json'.format(league)\n",
    "    # minutes[league] = load_minutes_played_per_game(path)\n",
    "\n",
    "path = r'data/players.json'\n",
    "players = load_players(path)\n",
    "players['player_name'] = players['player_name'].str.decode('unicode-escape')"
   ]
  },
  {
   "cell_type": "markdown",
   "id": "8861984e-51b1-4f1f-83fe-fca1c9825846",
   "metadata": {},
   "source": [
    "## Mapeamento para SPADL"
   ]
  },
  {
   "cell_type": "code",
   "execution_count": 6,
   "id": "965b0a46-9841-46a7-a083-0b95f9f7e899",
   "metadata": {},
   "outputs": [],
   "source": [
    "def spadl_transform(events, matches):\n",
    "    spadl = []\n",
    "    game_ids = events.game_id.unique().tolist()\n",
    "    for g in tqdm(game_ids):\n",
    "        match_events = events.loc[events.game_id == g]\n",
    "        match_home_id = matches.loc[(matches.matchId == g) & (matches.side == 'home'), 'teamId'].values[0]\n",
    "        match_actions = spd.wyscout.convert_to_actions(events=match_events, home_team_id=match_home_id)\n",
    "        match_actions = spd.play_left_to_right(actions=match_actions, home_team_id=match_home_id)\n",
    "        match_actions = spd.add_names(match_actions)\n",
    "        spadl.append(match_actions)\n",
    "    spadl = pd.concat(spadl).reset_index(drop=True)\n",
    "    return spadl"
   ]
  },
  {
   "cell_type": "code",
   "execution_count": 7,
   "id": "dc620b65-4e72-45f0-aa64-2afb4b3a10c9",
   "metadata": {},
   "outputs": [
    {
     "name": "stderr",
     "output_type": "stream",
     "text": [
      "  0%|          | 0/380 [00:00<?, ?it/s]"
     ]
    },
    {
     "name": "stderr",
     "output_type": "stream",
     "text": [
      " 54%|█████▍    | 207/380 [01:10<00:59,  2.92it/s]\n"
     ]
    },
    {
     "ename": "KeyboardInterrupt",
     "evalue": "",
     "output_type": "error",
     "traceback": [
      "\u001b[31m---------------------------------------------------------------------------\u001b[39m",
      "\u001b[31mKeyboardInterrupt\u001b[39m                         Traceback (most recent call last)",
      "\u001b[36mCell\u001b[39m\u001b[36m \u001b[39m\u001b[32mIn[7]\u001b[39m\u001b[32m, line 3\u001b[39m\n\u001b[32m      1\u001b[39m spadl = {}\n\u001b[32m      2\u001b[39m \u001b[38;5;28;01mfor\u001b[39;00m league \u001b[38;5;129;01min\u001b[39;00m leagues:\n\u001b[32m----> \u001b[39m\u001b[32m3\u001b[39m     spadl[league] = \u001b[43mspadl_transform\u001b[49m\u001b[43m(\u001b[49m\u001b[43mevents\u001b[49m\u001b[43m=\u001b[49m\u001b[43mevents\u001b[49m\u001b[43m[\u001b[49m\u001b[43mleague\u001b[49m\u001b[43m]\u001b[49m\u001b[43m,\u001b[49m\u001b[43m \u001b[49m\u001b[43mmatches\u001b[49m\u001b[43m=\u001b[49m\u001b[43mmatches\u001b[49m\u001b[43m[\u001b[49m\u001b[43mleague\u001b[49m\u001b[43m]\u001b[49m\u001b[43m)\u001b[49m\n\u001b[32m      4\u001b[39m     \u001b[38;5;66;03m# Adicionando o nome dos players\u001b[39;00m\n\u001b[32m      5\u001b[39m     spadl[league] = spadl[league].merge(players[[\u001b[33m'\u001b[39m\u001b[33mplayer_id\u001b[39m\u001b[33m'\u001b[39m, \u001b[33m'\u001b[39m\u001b[33mplayer_name\u001b[39m\u001b[33m'\u001b[39m]], on=\u001b[33m'\u001b[39m\u001b[33mplayer_id\u001b[39m\u001b[33m'\u001b[39m, how=\u001b[33m'\u001b[39m\u001b[33mleft\u001b[39m\u001b[33m'\u001b[39m)\n",
      "\u001b[36mCell\u001b[39m\u001b[36m \u001b[39m\u001b[32mIn[6]\u001b[39m\u001b[32m, line 7\u001b[39m, in \u001b[36mspadl_transform\u001b[39m\u001b[34m(events, matches)\u001b[39m\n\u001b[32m      5\u001b[39m match_events = events.loc[events.game_id == g]\n\u001b[32m      6\u001b[39m match_home_id = matches.loc[(matches.matchId == g) & (matches.side == \u001b[33m'\u001b[39m\u001b[33mhome\u001b[39m\u001b[33m'\u001b[39m), \u001b[33m'\u001b[39m\u001b[33mteamId\u001b[39m\u001b[33m'\u001b[39m].values[\u001b[32m0\u001b[39m]\n\u001b[32m----> \u001b[39m\u001b[32m7\u001b[39m match_actions = \u001b[43mspd\u001b[49m\u001b[43m.\u001b[49m\u001b[43mwyscout\u001b[49m\u001b[43m.\u001b[49m\u001b[43mconvert_to_actions\u001b[49m\u001b[43m(\u001b[49m\u001b[43mevents\u001b[49m\u001b[43m=\u001b[49m\u001b[43mmatch_events\u001b[49m\u001b[43m,\u001b[49m\u001b[43m \u001b[49m\u001b[43mhome_team_id\u001b[49m\u001b[43m=\u001b[49m\u001b[43mmatch_home_id\u001b[49m\u001b[43m)\u001b[49m\n\u001b[32m      8\u001b[39m match_actions = spd.play_left_to_right(actions=match_actions, home_team_id=match_home_id)\n\u001b[32m      9\u001b[39m match_actions = spd.add_names(match_actions)\n",
      "\u001b[36mFile \u001b[39m\u001b[32m~/Documentos/faculdade/cdaf-projeto/venv/lib/python3.12/site-packages/socceraction/spadl/wyscout.py:43\u001b[39m, in \u001b[36mconvert_to_actions\u001b[39m\u001b[34m(events, home_team_id)\u001b[39m\n\u001b[32m     26\u001b[39m \u001b[38;5;250m\u001b[39m\u001b[33;03m\"\"\"\u001b[39;00m\n\u001b[32m     27\u001b[39m \u001b[33;03mConvert Wyscout events to SPADL actions.\u001b[39;00m\n\u001b[32m     28\u001b[39m \n\u001b[32m   (...)\u001b[39m\u001b[32m     40\u001b[39m \n\u001b[32m     41\u001b[39m \u001b[33;03m\"\"\"\u001b[39;00m\n\u001b[32m     42\u001b[39m events = pd.concat([events, get_tagsdf(events)], axis=\u001b[32m1\u001b[39m)\n\u001b[32m---> \u001b[39m\u001b[32m43\u001b[39m events = \u001b[43mmake_new_positions\u001b[49m\u001b[43m(\u001b[49m\u001b[43mevents\u001b[49m\u001b[43m)\u001b[49m\n\u001b[32m     44\u001b[39m events = fix_wyscout_events(events)\n\u001b[32m     45\u001b[39m actions = create_df_actions(events)\n",
      "\u001b[36mFile \u001b[39m\u001b[32m~/Documentos/faculdade/cdaf-projeto/venv/lib/python3.12/site-packages/socceraction/spadl/wyscout.py:174\u001b[39m, in \u001b[36mmake_new_positions\u001b[39m\u001b[34m(events)\u001b[39m\n\u001b[32m    161\u001b[39m \u001b[38;5;28;01mdef\u001b[39;00m\u001b[38;5;250m \u001b[39m\u001b[34mmake_new_positions\u001b[39m(events: pd.DataFrame) -> pd.DataFrame:\n\u001b[32m    162\u001b[39m \u001b[38;5;250m    \u001b[39m\u001b[33;03m\"\"\"Extract the start and end coordinates for each action.\u001b[39;00m\n\u001b[32m    163\u001b[39m \n\u001b[32m    164\u001b[39m \u001b[33;03m    Parameters\u001b[39;00m\n\u001b[32m   (...)\u001b[39m\u001b[32m    172\u001b[39m \u001b[33;03m        Wyscout event dataframe with start and end coordinates for each action.\u001b[39;00m\n\u001b[32m    173\u001b[39m \u001b[33;03m    \"\"\"\u001b[39;00m\n\u001b[32m--> \u001b[39m\u001b[32m174\u001b[39m     new_positions = \u001b[43mevents\u001b[49m\u001b[43m[\u001b[49m\u001b[43m[\u001b[49m\u001b[33;43m\"\u001b[39;49m\u001b[33;43mevent_id\u001b[39;49m\u001b[33;43m\"\u001b[39;49m\u001b[43m,\u001b[49m\u001b[43m \u001b[49m\u001b[33;43m\"\u001b[39;49m\u001b[33;43mpositions\u001b[39;49m\u001b[33;43m\"\u001b[39;49m\u001b[43m]\u001b[49m\u001b[43m]\u001b[49m\u001b[43m.\u001b[49m\u001b[43mapply\u001b[49m\u001b[43m(\u001b[49m\n\u001b[32m    175\u001b[39m \u001b[43m        \u001b[49m\u001b[38;5;28;43;01mlambda\u001b[39;49;00m\u001b[43m \u001b[49m\u001b[43mrow\u001b[49m\u001b[43m:\u001b[49m\u001b[43m \u001b[49m\u001b[43m_make_position_vars\u001b[49m\u001b[43m(\u001b[49m\u001b[43mrow\u001b[49m\u001b[43m[\u001b[49m\u001b[33;43m\"\u001b[39;49m\u001b[33;43mevent_id\u001b[39;49m\u001b[33;43m\"\u001b[39;49m\u001b[43m]\u001b[49m\u001b[43m,\u001b[49m\u001b[43m \u001b[49m\u001b[43mrow\u001b[49m\u001b[43m[\u001b[49m\u001b[33;43m\"\u001b[39;49m\u001b[33;43mpositions\u001b[39;49m\u001b[33;43m\"\u001b[39;49m\u001b[43m]\u001b[49m\u001b[43m)\u001b[49m\u001b[43m,\u001b[49m\u001b[43m \u001b[49m\u001b[43maxis\u001b[49m\u001b[43m=\u001b[49m\u001b[32;43m1\u001b[39;49m\n\u001b[32m    176\u001b[39m \u001b[43m    \u001b[49m\u001b[43m)\u001b[49m\n\u001b[32m    177\u001b[39m     new_positions.columns = [\u001b[33m\"\u001b[39m\u001b[33mevent_id\u001b[39m\u001b[33m\"\u001b[39m, \u001b[33m\"\u001b[39m\u001b[33mstart_x\u001b[39m\u001b[33m\"\u001b[39m, \u001b[33m\"\u001b[39m\u001b[33mstart_y\u001b[39m\u001b[33m\"\u001b[39m, \u001b[33m\"\u001b[39m\u001b[33mend_x\u001b[39m\u001b[33m\"\u001b[39m, \u001b[33m\"\u001b[39m\u001b[33mend_y\u001b[39m\u001b[33m\"\u001b[39m]\n\u001b[32m    178\u001b[39m     events = pd.merge(events, new_positions, left_on=\u001b[33m\"\u001b[39m\u001b[33mevent_id\u001b[39m\u001b[33m\"\u001b[39m, right_on=\u001b[33m\"\u001b[39m\u001b[33mevent_id\u001b[39m\u001b[33m\"\u001b[39m)\n",
      "\u001b[36mFile \u001b[39m\u001b[32m~/Documentos/faculdade/cdaf-projeto/venv/lib/python3.12/site-packages/pandas/core/frame.py:10374\u001b[39m, in \u001b[36mDataFrame.apply\u001b[39m\u001b[34m(self, func, axis, raw, result_type, args, by_row, engine, engine_kwargs, **kwargs)\u001b[39m\n\u001b[32m  10360\u001b[39m \u001b[38;5;28;01mfrom\u001b[39;00m\u001b[38;5;250m \u001b[39m\u001b[34;01mpandas\u001b[39;00m\u001b[34;01m.\u001b[39;00m\u001b[34;01mcore\u001b[39;00m\u001b[34;01m.\u001b[39;00m\u001b[34;01mapply\u001b[39;00m\u001b[38;5;250m \u001b[39m\u001b[38;5;28;01mimport\u001b[39;00m frame_apply\n\u001b[32m  10362\u001b[39m op = frame_apply(\n\u001b[32m  10363\u001b[39m     \u001b[38;5;28mself\u001b[39m,\n\u001b[32m  10364\u001b[39m     func=func,\n\u001b[32m   (...)\u001b[39m\u001b[32m  10372\u001b[39m     kwargs=kwargs,\n\u001b[32m  10373\u001b[39m )\n\u001b[32m> \u001b[39m\u001b[32m10374\u001b[39m \u001b[38;5;28;01mreturn\u001b[39;00m \u001b[43mop\u001b[49m\u001b[43m.\u001b[49m\u001b[43mapply\u001b[49m\u001b[43m(\u001b[49m\u001b[43m)\u001b[49m.__finalize__(\u001b[38;5;28mself\u001b[39m, method=\u001b[33m\"\u001b[39m\u001b[33mapply\u001b[39m\u001b[33m\"\u001b[39m)\n",
      "\u001b[36mFile \u001b[39m\u001b[32m~/Documentos/faculdade/cdaf-projeto/venv/lib/python3.12/site-packages/pandas/core/apply.py:916\u001b[39m, in \u001b[36mFrameApply.apply\u001b[39m\u001b[34m(self)\u001b[39m\n\u001b[32m    913\u001b[39m \u001b[38;5;28;01melif\u001b[39;00m \u001b[38;5;28mself\u001b[39m.raw:\n\u001b[32m    914\u001b[39m     \u001b[38;5;28;01mreturn\u001b[39;00m \u001b[38;5;28mself\u001b[39m.apply_raw(engine=\u001b[38;5;28mself\u001b[39m.engine, engine_kwargs=\u001b[38;5;28mself\u001b[39m.engine_kwargs)\n\u001b[32m--> \u001b[39m\u001b[32m916\u001b[39m \u001b[38;5;28;01mreturn\u001b[39;00m \u001b[38;5;28;43mself\u001b[39;49m\u001b[43m.\u001b[49m\u001b[43mapply_standard\u001b[49m\u001b[43m(\u001b[49m\u001b[43m)\u001b[49m\n",
      "\u001b[36mFile \u001b[39m\u001b[32m~/Documentos/faculdade/cdaf-projeto/venv/lib/python3.12/site-packages/pandas/core/apply.py:1063\u001b[39m, in \u001b[36mFrameApply.apply_standard\u001b[39m\u001b[34m(self)\u001b[39m\n\u001b[32m   1061\u001b[39m \u001b[38;5;28;01mdef\u001b[39;00m\u001b[38;5;250m \u001b[39m\u001b[34mapply_standard\u001b[39m(\u001b[38;5;28mself\u001b[39m):\n\u001b[32m   1062\u001b[39m     \u001b[38;5;28;01mif\u001b[39;00m \u001b[38;5;28mself\u001b[39m.engine == \u001b[33m\"\u001b[39m\u001b[33mpython\u001b[39m\u001b[33m\"\u001b[39m:\n\u001b[32m-> \u001b[39m\u001b[32m1063\u001b[39m         results, res_index = \u001b[38;5;28;43mself\u001b[39;49m\u001b[43m.\u001b[49m\u001b[43mapply_series_generator\u001b[49m\u001b[43m(\u001b[49m\u001b[43m)\u001b[49m\n\u001b[32m   1064\u001b[39m     \u001b[38;5;28;01melse\u001b[39;00m:\n\u001b[32m   1065\u001b[39m         results, res_index = \u001b[38;5;28mself\u001b[39m.apply_series_numba()\n",
      "\u001b[36mFile \u001b[39m\u001b[32m~/Documentos/faculdade/cdaf-projeto/venv/lib/python3.12/site-packages/pandas/core/apply.py:1081\u001b[39m, in \u001b[36mFrameApply.apply_series_generator\u001b[39m\u001b[34m(self)\u001b[39m\n\u001b[32m   1078\u001b[39m \u001b[38;5;28;01mwith\u001b[39;00m option_context(\u001b[33m\"\u001b[39m\u001b[33mmode.chained_assignment\u001b[39m\u001b[33m\"\u001b[39m, \u001b[38;5;28;01mNone\u001b[39;00m):\n\u001b[32m   1079\u001b[39m     \u001b[38;5;28;01mfor\u001b[39;00m i, v \u001b[38;5;129;01min\u001b[39;00m \u001b[38;5;28menumerate\u001b[39m(series_gen):\n\u001b[32m   1080\u001b[39m         \u001b[38;5;66;03m# ignore SettingWithCopy here in case the user mutates\u001b[39;00m\n\u001b[32m-> \u001b[39m\u001b[32m1081\u001b[39m         results[i] = \u001b[38;5;28;43mself\u001b[39;49m\u001b[43m.\u001b[49m\u001b[43mfunc\u001b[49m\u001b[43m(\u001b[49m\u001b[43mv\u001b[49m\u001b[43m,\u001b[49m\u001b[43m \u001b[49m\u001b[43m*\u001b[49m\u001b[38;5;28;43mself\u001b[39;49m\u001b[43m.\u001b[49m\u001b[43margs\u001b[49m\u001b[43m,\u001b[49m\u001b[43m \u001b[49m\u001b[43m*\u001b[49m\u001b[43m*\u001b[49m\u001b[38;5;28;43mself\u001b[39;49m\u001b[43m.\u001b[49m\u001b[43mkwargs\u001b[49m\u001b[43m)\u001b[49m\n\u001b[32m   1082\u001b[39m         \u001b[38;5;28;01mif\u001b[39;00m \u001b[38;5;28misinstance\u001b[39m(results[i], ABCSeries):\n\u001b[32m   1083\u001b[39m             \u001b[38;5;66;03m# If we have a view on v, we need to make a copy because\u001b[39;00m\n\u001b[32m   1084\u001b[39m             \u001b[38;5;66;03m#  series_generator will swap out the underlying data\u001b[39;00m\n\u001b[32m   1085\u001b[39m             results[i] = results[i].copy(deep=\u001b[38;5;28;01mFalse\u001b[39;00m)\n",
      "\u001b[36mFile \u001b[39m\u001b[32m~/Documentos/faculdade/cdaf-projeto/venv/lib/python3.12/site-packages/socceraction/spadl/wyscout.py:175\u001b[39m, in \u001b[36mmake_new_positions.<locals>.<lambda>\u001b[39m\u001b[34m(row)\u001b[39m\n\u001b[32m    161\u001b[39m \u001b[38;5;28;01mdef\u001b[39;00m\u001b[38;5;250m \u001b[39m\u001b[34mmake_new_positions\u001b[39m(events: pd.DataFrame) -> pd.DataFrame:\n\u001b[32m    162\u001b[39m \u001b[38;5;250m    \u001b[39m\u001b[33;03m\"\"\"Extract the start and end coordinates for each action.\u001b[39;00m\n\u001b[32m    163\u001b[39m \n\u001b[32m    164\u001b[39m \u001b[33;03m    Parameters\u001b[39;00m\n\u001b[32m   (...)\u001b[39m\u001b[32m    172\u001b[39m \u001b[33;03m        Wyscout event dataframe with start and end coordinates for each action.\u001b[39;00m\n\u001b[32m    173\u001b[39m \u001b[33;03m    \"\"\"\u001b[39;00m\n\u001b[32m    174\u001b[39m     new_positions = events[[\u001b[33m\"\u001b[39m\u001b[33mevent_id\u001b[39m\u001b[33m\"\u001b[39m, \u001b[33m\"\u001b[39m\u001b[33mpositions\u001b[39m\u001b[33m\"\u001b[39m]].apply(\n\u001b[32m--> \u001b[39m\u001b[32m175\u001b[39m         \u001b[38;5;28;01mlambda\u001b[39;00m row: \u001b[43m_make_position_vars\u001b[49m\u001b[43m(\u001b[49m\u001b[43mrow\u001b[49m\u001b[43m[\u001b[49m\u001b[33;43m\"\u001b[39;49m\u001b[33;43mevent_id\u001b[39;49m\u001b[33;43m\"\u001b[39;49m\u001b[43m]\u001b[49m\u001b[43m,\u001b[49m\u001b[43m \u001b[49m\u001b[43mrow\u001b[49m\u001b[43m[\u001b[49m\u001b[33;43m\"\u001b[39;49m\u001b[33;43mpositions\u001b[39;49m\u001b[33;43m\"\u001b[39;49m\u001b[43m]\u001b[49m\u001b[43m)\u001b[49m, axis=\u001b[32m1\u001b[39m\n\u001b[32m    176\u001b[39m     )\n\u001b[32m    177\u001b[39m     new_positions.columns = [\u001b[33m\"\u001b[39m\u001b[33mevent_id\u001b[39m\u001b[33m\"\u001b[39m, \u001b[33m\"\u001b[39m\u001b[33mstart_x\u001b[39m\u001b[33m\"\u001b[39m, \u001b[33m\"\u001b[39m\u001b[33mstart_y\u001b[39m\u001b[33m\"\u001b[39m, \u001b[33m\"\u001b[39m\u001b[33mend_x\u001b[39m\u001b[33m\"\u001b[39m, \u001b[33m\"\u001b[39m\u001b[33mend_y\u001b[39m\u001b[33m\"\u001b[39m]\n\u001b[32m    178\u001b[39m     events = pd.merge(events, new_positions, left_on=\u001b[33m\"\u001b[39m\u001b[33mevent_id\u001b[39m\u001b[33m\"\u001b[39m, right_on=\u001b[33m\"\u001b[39m\u001b[33mevent_id\u001b[39m\u001b[33m\"\u001b[39m)\n",
      "\u001b[36mFile \u001b[39m\u001b[32m~/Documentos/faculdade/cdaf-projeto/venv/lib/python3.12/site-packages/socceraction/spadl/wyscout.py:158\u001b[39m, in \u001b[36m_make_position_vars\u001b[39m\u001b[34m(event_id, positions)\u001b[39m\n\u001b[32m    156\u001b[39m     end_x = \u001b[38;5;28;01mNone\u001b[39;00m\n\u001b[32m    157\u001b[39m     end_y = \u001b[38;5;28;01mNone\u001b[39;00m\n\u001b[32m--> \u001b[39m\u001b[32m158\u001b[39m \u001b[38;5;28;01mreturn\u001b[39;00m \u001b[43mpd\u001b[49m\u001b[43m.\u001b[49m\u001b[43mSeries\u001b[49m\u001b[43m(\u001b[49m\u001b[43m[\u001b[49m\u001b[43mevent_id\u001b[49m\u001b[43m,\u001b[49m\u001b[43m \u001b[49m\u001b[43mstart_x\u001b[49m\u001b[43m,\u001b[49m\u001b[43m \u001b[49m\u001b[43mstart_y\u001b[49m\u001b[43m,\u001b[49m\u001b[43m \u001b[49m\u001b[43mend_x\u001b[49m\u001b[43m,\u001b[49m\u001b[43m \u001b[49m\u001b[43mend_y\u001b[49m\u001b[43m]\u001b[49m\u001b[43m)\u001b[49m\n",
      "\u001b[36mFile \u001b[39m\u001b[32m~/Documentos/faculdade/cdaf-projeto/venv/lib/python3.12/site-packages/pandas/core/series.py:593\u001b[39m, in \u001b[36mSeries.__init__\u001b[39m\u001b[34m(self, data, index, dtype, name, copy, fastpath)\u001b[39m\n\u001b[32m    590\u001b[39m         data = SingleArrayManager.from_array(data, index)\n\u001b[32m    592\u001b[39m NDFrame.\u001b[34m__init__\u001b[39m(\u001b[38;5;28mself\u001b[39m, data)\n\u001b[32m--> \u001b[39m\u001b[32m593\u001b[39m \u001b[38;5;28;43mself\u001b[39;49m\u001b[43m.\u001b[49m\u001b[43mname\u001b[49m = name\n\u001b[32m    594\u001b[39m \u001b[38;5;28mself\u001b[39m._set_axis(\u001b[32m0\u001b[39m, index)\n\u001b[32m    596\u001b[39m \u001b[38;5;28;01mif\u001b[39;00m original_dtype \u001b[38;5;129;01mis\u001b[39;00m \u001b[38;5;28;01mNone\u001b[39;00m \u001b[38;5;129;01mand\u001b[39;00m is_pandas_object \u001b[38;5;129;01mand\u001b[39;00m data_dtype == np.object_:\n",
      "\u001b[36mFile \u001b[39m\u001b[32m~/Documentos/faculdade/cdaf-projeto/venv/lib/python3.12/site-packages/pandas/core/generic.py:6320\u001b[39m, in \u001b[36mNDFrame.__setattr__\u001b[39m\u001b[34m(self, name, value)\u001b[39m\n\u001b[32m   6317\u001b[39m \u001b[38;5;66;03m# if this fails, go on to more involved attribute setting\u001b[39;00m\n\u001b[32m   6318\u001b[39m \u001b[38;5;66;03m# (note that this matches __getattr__, above).\u001b[39;00m\n\u001b[32m   6319\u001b[39m \u001b[38;5;28;01mif\u001b[39;00m name \u001b[38;5;129;01min\u001b[39;00m \u001b[38;5;28mself\u001b[39m._internal_names_set:\n\u001b[32m-> \u001b[39m\u001b[32m6320\u001b[39m     \u001b[38;5;28;43mobject\u001b[39;49m\u001b[43m.\u001b[49m\u001b[34;43m__setattr__\u001b[39;49m\u001b[43m(\u001b[49m\u001b[38;5;28;43mself\u001b[39;49m\u001b[43m,\u001b[49m\u001b[43m \u001b[49m\u001b[43mname\u001b[49m\u001b[43m,\u001b[49m\u001b[43m \u001b[49m\u001b[43mvalue\u001b[49m\u001b[43m)\u001b[49m\n\u001b[32m   6321\u001b[39m \u001b[38;5;28;01melif\u001b[39;00m name \u001b[38;5;129;01min\u001b[39;00m \u001b[38;5;28mself\u001b[39m._metadata:\n\u001b[32m   6322\u001b[39m     \u001b[38;5;28mobject\u001b[39m.\u001b[34m__setattr__\u001b[39m(\u001b[38;5;28mself\u001b[39m, name, value)\n",
      "\u001b[36mFile \u001b[39m\u001b[32m~/Documentos/faculdade/cdaf-projeto/venv/lib/python3.12/site-packages/pandas/core/series.py:784\u001b[39m, in \u001b[36mSeries.name\u001b[39m\u001b[34m(self, value)\u001b[39m\n\u001b[32m    736\u001b[39m \u001b[38;5;250m    \u001b[39m\u001b[33;03m\"\"\"\u001b[39;00m\n\u001b[32m    737\u001b[39m \u001b[33;03m    Return the name of the Series.\u001b[39;00m\n\u001b[32m    738\u001b[39m \n\u001b[32m   (...)\u001b[39m\u001b[32m    780\u001b[39m \u001b[33;03m    'Even Numbers'\u001b[39;00m\n\u001b[32m    781\u001b[39m \u001b[33;03m    \"\"\"\u001b[39;00m\n\u001b[32m    782\u001b[39m     \u001b[38;5;28;01mreturn\u001b[39;00m \u001b[38;5;28mself\u001b[39m._name\n\u001b[32m--> \u001b[39m\u001b[32m784\u001b[39m \u001b[38;5;129m@name\u001b[39m.setter\n\u001b[32m    785\u001b[39m \u001b[38;5;28;01mdef\u001b[39;00m\u001b[38;5;250m \u001b[39m\u001b[34mname\u001b[39m(\u001b[38;5;28mself\u001b[39m, value: Hashable) -> \u001b[38;5;28;01mNone\u001b[39;00m:\n\u001b[32m    786\u001b[39m     validate_all_hashable(value, error_name=\u001b[33mf\u001b[39m\u001b[33m\"\u001b[39m\u001b[38;5;132;01m{\u001b[39;00m\u001b[38;5;28mtype\u001b[39m(\u001b[38;5;28mself\u001b[39m).\u001b[34m__name__\u001b[39m\u001b[38;5;132;01m}\u001b[39;00m\u001b[33m.name\u001b[39m\u001b[33m\"\u001b[39m)\n\u001b[32m    787\u001b[39m     \u001b[38;5;28mobject\u001b[39m.\u001b[34m__setattr__\u001b[39m(\u001b[38;5;28mself\u001b[39m, \u001b[33m\"\u001b[39m\u001b[33m_name\u001b[39m\u001b[33m\"\u001b[39m, value)\n",
      "\u001b[31mKeyboardInterrupt\u001b[39m: "
     ]
    }
   ],
   "source": [
    "spadl = {}\n",
    "for league in leagues:\n",
    "    spadl[league] = spadl_transform(events=events[league], matches=matches[league])\n",
    "    # Adicionando o nome dos players\n",
    "    spadl[league] = spadl[league].merge(players[['player_id', 'player_name']], on='player_id', how='left')"
   ]
  },
  {
   "cell_type": "markdown",
   "id": "086379e7-b60c-42a8-b66e-0e88882714a8",
   "metadata": {},
   "source": [
    "## Análise exploratória"
   ]
  },
  {
   "cell_type": "code",
   "execution_count": null,
   "id": "bd0e51f3-c915-4d63-9dca-f0c61809f04e",
   "metadata": {},
   "outputs": [
    {
     "data": {
      "text/plain": [
       "Index(['game_id', 'period_id', 'time_seconds', 'team_id', 'player_id',\n",
       "       'start_x', 'start_y', 'end_x', 'end_y', 'original_event_id',\n",
       "       'bodypart_id', 'type_id', 'result_id', 'action_id', 'type_name',\n",
       "       'result_name', 'bodypart_name', 'player_name'],\n",
       "      dtype='object')"
      ]
     },
     "execution_count": 18,
     "metadata": {},
     "output_type": "execute_result"
    }
   ],
   "source": [
    "spadl['England'].columns\n"
   ]
  },
  {
   "cell_type": "code",
   "execution_count": null,
   "id": "e8630dc2",
   "metadata": {},
   "outputs": [
    {
     "ename": "NameError",
     "evalue": "name 'spadl' is not defined",
     "output_type": "error",
     "traceback": [
      "\u001b[31m---------------------------------------------------------------------------\u001b[39m",
      "\u001b[31mNameError\u001b[39m                                 Traceback (most recent call last)",
      "\u001b[36mCell\u001b[39m\u001b[36m \u001b[39m\u001b[32mIn[1]\u001b[39m\u001b[32m, line 1\u001b[39m\n\u001b[32m----> \u001b[39m\u001b[32m1\u001b[39m a = \u001b[43mspadl\u001b[49m[\u001b[33m'\u001b[39m\u001b[33mEngland\u001b[39m\u001b[33m'\u001b[39m]\n\u001b[32m      3\u001b[39m a\n",
      "\u001b[31mNameError\u001b[39m: name 'spadl' is not defined"
     ]
    }
   ],
   "source": [
    "a = spadl['England']\n",
    "\n",
    "a"
   ]
  }
 ],
 "metadata": {
  "kernelspec": {
   "display_name": "venv",
   "language": "python",
   "name": "python3"
  },
  "language_info": {
   "codemirror_mode": {
    "name": "ipython",
    "version": 3
   },
   "file_extension": ".py",
   "mimetype": "text/x-python",
   "name": "python",
   "nbconvert_exporter": "python",
   "pygments_lexer": "ipython3",
   "version": "3.12.3"
  }
 },
 "nbformat": 4,
 "nbformat_minor": 5
}
