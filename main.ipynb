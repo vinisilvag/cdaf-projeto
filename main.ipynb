{
 "cells": [
  {
   "cell_type": "markdown",
   "id": "8b9b79d9-e52b-4f9a-acb6-a5befab864df",
   "metadata": {},
   "source": [
    "# Análise e Predição de Química entre Jogadores de Futebol\n",
    "\n",
    "No futebol moderno, a performance coletiva vai além das métricas individuais como gols, passes certos ou desarmes. \n",
    "A interação entre os jogadores - a chamada \"química\" - é um fator crucial, mas frequentemente ignorado, especialmente \n",
    "em decisões de recrutamento. Casos como a contratação simultânea de Andy Carroll e Luis Suárez pelo Liverpool em 2011 \n",
    "ilustram como a falta de entrosamento pode comprometer o desempenho, mesmo com atletas tecnicamente qualificados.\n",
    "\n",
    "Este trabalho busca investigar a qualidade do entrosamento entre duplas de jogadores que atuaram juntas, utilizando \n",
    "dados de desempenho individual e coletivo. O objetivo é classificar o nível de química entre essas duplas e treinar \n",
    "um modelo capaz de prever a compatibilidade entre jogadores que nunca atuaram lado a lado.\n",
    "\n",
    "Grupo: Gabriel Castelo, Matheus Vaz, Victor Kenji e Vinicius Gomes\n",
    "\n",
    "Repositório no GitHub: [https://github.com/vinisilvag/cdaf-projeto](https://github.com/vinisilvag/cdaf-projeto)"
   ]
  },
  {
   "cell_type": "code",
   "execution_count": 1,
   "id": "dd1b58b3-d3da-4130-80a3-b830eaa46d42",
   "metadata": {},
   "outputs": [],
   "source": [
    "# Standard library\n",
    "import random\n",
    "from functools import reduce\n",
    "from collections import defaultdict\n",
    "\n",
    "# Data manipulation\n",
    "import pandas as pd\n",
    "import scipy.ndimage\n",
    "\n",
    "# Progress bar\n",
    "from tqdm import tqdm\n",
    "\n",
    "# Visualization\n",
    "import matplotlib.pyplot as plt\n",
    "import seaborn as sns\n",
    "import matplotsoccer as mps\n",
    "\n",
    "# Web scraping / HTML parsing\n",
    "import requests\n",
    "from bs4 import BeautifulSoup, Comment\n",
    "\n",
    "# Fuzzy matching\n",
    "from thefuzz import fuzz, process\n",
    "\n",
    "# Soccer action analytics\n",
    "import socceraction.spadl as spd\n",
    "from socceraction.vaep import features as ft\n",
    "from socceraction.vaep import labels as lab\n",
    "from socceraction.vaep import formula as fm\n",
    "\n",
    "# Machine learning\n",
    "from sklearn.model_selection import train_test_split\n",
    "import xgboost as xgb\n",
    "import sklearn.metrics as mt\n",
    "\n",
    "# Pandas configuration\n",
    "pd.set_option('future.no_silent_downcasting', True)"
   ]
  },
  {
   "cell_type": "code",
   "execution_count": 8,
   "id": "78f9a007",
   "metadata": {},
   "outputs": [],
   "source": [
    "# Import custom modules\n",
    "from webscraping import *\n",
    "from viz_utils import *\n",
    "from io_utils import *\n",
    "from misc_utils import *\n",
    "from metrics import *"
   ]
  },
  {
   "cell_type": "markdown",
   "id": "225f74ff-eb02-4a1e-a584-60b0a285103f",
   "metadata": {},
   "source": [
    "### Scrapping de dados da FBref para enriquecer os dados que temos dos jogadores\n",
    "\n",
    "A metodologia do trabalho de base usa dados proprietários. Assim, pretendemos contornar esse problema fazendo um scrapping de dados da FBref para enriquecer as informações dos jogadores e usar atributos semelhantes aos que eles utilizaram na nossa metodologia para cálculo das métricas e treinamento do modelo.\n",
    "\n",
    "OBS: Scrapping finalizado! Não é necessário rodar as células a seguir, os dados coletados já estão salvos localmente (a não ser que a gente queira adicionar mais dados)."
   ]
  },
  {
   "cell_type": "code",
   "execution_count": 6,
   "id": "35a6910b",
   "metadata": {},
   "outputs": [],
   "source": [
    "player_data = {\n",
    "    \"England\": [\n",
    "        (\"https://fbref.com/en/comps/9/2017-2018/passing/2017-2018-Premier-League-Stats\", \"stats_passing\"),\n",
    "        (\"https://fbref.com/en/comps/9/2017-2018/defense/2017-2018-Premier-League-Stats\", \"stats_defense\"),\n",
    "        (\"https://fbref.com/en/comps/9/2017-2018/passing_types/2017-2018-Premier-League-Stats\", \"stats_passing_types\"),\n",
    "        (\"https://fbref.com/en/comps/9/2017-2018/misc/2017-2018-Premier-League-Stats\", \"stats_misc\"),\n",
    "    ],\n",
    "    \"Spain\": [\n",
    "        (\"https://fbref.com/en/comps/12/2017-2018/passing/2017-2018-La-Liga-Stats\", \"stats_passing\"),\n",
    "        (\"https://fbref.com/en/comps/12/2017-2018/defense/2017-2018-La-Liga-Stats\", \"stats_defense\"),\n",
    "        (\"https://fbref.com/en/comps/12/2017-2018/passing_types/2017-2018-La-Liga-Stats\", \"stats_passing_types\"),\n",
    "        (\"https://fbref.com/en/comps/12/2017-2018/misc/2017-2018-La-Liga-Stats\", \"stats_misc\"),\n",
    "    ],\n",
    "    \"Germany\": [\n",
    "        (\"https://fbref.com/en/comps/20/2017-2018/passing/2017-2018-Bundesliga-Stats\", \"stats_passing\"),\n",
    "        (\"https://fbref.com/en/comps/20/2017-2018/defense/2017-2018-Bundesliga-Stats\", \"stats_defense\"),\n",
    "        (\"https://fbref.com/en/comps/20/2017-2018/passing_types/2017-2018-Bundesliga-Stats\", \"stats_passing_types\"),\n",
    "        (\"https://fbref.com/en/comps/20/2017-2018/misc/2017-2018-Bundesliga-Stats\", \"stats_misc\"),\n",
    "    ],\n",
    "    \"Italy\": [\n",
    "        (\"https://fbref.com/en/comps/11/2017-2018/passing/2017-2018-Serie-A-Stats\", \"stats_passing\"),\n",
    "        (\"https://fbref.com/en/comps/11/2017-2018/defense/2017-2018-Serie-A-Stats\", \"stats_defense\"),\n",
    "        (\"https://fbref.com/en/comps/11/2017-2018/passing_types/2017-2018-Serie-A-Stats\", \"stats_passing_types\"),\n",
    "        (\"https://fbref.com/en/comps/11/2017-2018/misc/2017-2018-Serie-A-Stats\", \"stats_misc\"),\n",
    "    ],\n",
    "    \"France\": [\n",
    "        (\"https://fbref.com/en/comps/13/2017-2018/passing/2017-2018-Ligue-1-Stats\", \"stats_passing\"),\n",
    "        (\"https://fbref.com/en/comps/13/2017-2018/defense/2017-2018-Ligue-1-Stats\", \"stats_defense\"),\n",
    "        (\"https://fbref.com/en/comps/13/2017-2018/passing_types/2017-2018-Ligue-1-Stats\", \"stats_passing_types\"),\n",
    "        (\"https://fbref.com/en/comps/13/2017-2018/misc/2017-2018-Ligue-1-Stats\", \"stats_misc\"),\n",
    "    ]\n",
    "}"
   ]
  },
  {
   "cell_type": "code",
   "execution_count": 7,
   "id": "bf2f5912-36eb-4a1a-947c-a7d90640b11f",
   "metadata": {},
   "outputs": [
    {
     "ename": "ValueError",
     "evalue": "Table stats_passing not found!",
     "output_type": "error",
     "traceback": [
      "\u001b[31m---------------------------------------------------------------------------\u001b[39m",
      "\u001b[31mValueError\u001b[39m                                Traceback (most recent call last)",
      "\u001b[36mCell\u001b[39m\u001b[36m \u001b[39m\u001b[32mIn[7]\u001b[39m\u001b[32m, line 1\u001b[39m\n\u001b[32m----> \u001b[39m\u001b[32m1\u001b[39m england_players_scrapped_data = \u001b[43mget_data_by_league\u001b[49m\u001b[43m(\u001b[49m\u001b[43mplayer_data\u001b[49m\u001b[43m[\u001b[49m\u001b[33;43m\"\u001b[39;49m\u001b[33;43mEngland\u001b[39;49m\u001b[33;43m\"\u001b[39;49m\u001b[43m]\u001b[49m\u001b[43m)\u001b[49m\n",
      "\u001b[36mFile \u001b[39m\u001b[32mc:\\Repositorios\\cdaf-projeto\\webscraping.py:31\u001b[39m, in \u001b[36mget_data_by_league\u001b[39m\u001b[34m(league_data)\u001b[39m\n\u001b[32m     29\u001b[39m \u001b[38;5;66;03m# Se tabela foi encontrada, extrair os dados\u001b[39;00m\n\u001b[32m     30\u001b[39m \u001b[38;5;28;01mif\u001b[39;00m \u001b[38;5;129;01mnot\u001b[39;00m table:\n\u001b[32m---> \u001b[39m\u001b[32m31\u001b[39m     \u001b[38;5;28;01mraise\u001b[39;00m \u001b[38;5;167;01mValueError\u001b[39;00m(\u001b[33mf\u001b[39m\u001b[33m'\u001b[39m\u001b[33mTable \u001b[39m\u001b[38;5;132;01m{\u001b[39;00mtable_id\u001b[38;5;132;01m}\u001b[39;00m\u001b[33m not found!\u001b[39m\u001b[33m'\u001b[39m)\n\u001b[32m     33\u001b[39m \u001b[38;5;66;03m# Extrair cabeçalhos\u001b[39;00m\n\u001b[32m     34\u001b[39m thead = table.find(\u001b[33m'\u001b[39m\u001b[33mthead\u001b[39m\u001b[33m'\u001b[39m)\n",
      "\u001b[31mValueError\u001b[39m: Table stats_passing not found!"
     ]
    }
   ],
   "source": [
    "england_players_scrapped_data = get_data_by_league(player_data[\"England\"])"
   ]
  },
  {
   "cell_type": "code",
   "execution_count": 5,
   "id": "8816b906-5f54-4bbb-a947-ede04e082e16",
   "metadata": {},
   "outputs": [
    {
     "ename": "ValueError",
     "evalue": "Table stats_passing not found!",
     "output_type": "error",
     "traceback": [
      "\u001b[31m---------------------------------------------------------------------------\u001b[39m",
      "\u001b[31mValueError\u001b[39m                                Traceback (most recent call last)",
      "\u001b[36mCell\u001b[39m\u001b[36m \u001b[39m\u001b[32mIn[5]\u001b[39m\u001b[32m, line 1\u001b[39m\n\u001b[32m----> \u001b[39m\u001b[32m1\u001b[39m spain_players_scrapped_data = \u001b[43mget_data_by_league\u001b[49m\u001b[43m(\u001b[49m\u001b[43mplayer_data\u001b[49m\u001b[43m[\u001b[49m\u001b[33;43m\"\u001b[39;49m\u001b[33;43mSpain\u001b[39;49m\u001b[33;43m\"\u001b[39;49m\u001b[43m]\u001b[49m\u001b[43m)\u001b[49m\n",
      "\u001b[36mCell\u001b[39m\u001b[36m \u001b[39m\u001b[32mIn[3]\u001b[39m\u001b[32m, line 58\u001b[39m, in \u001b[36mget_data_by_league\u001b[39m\u001b[34m(league_data)\u001b[39m\n\u001b[32m     56\u001b[39m \u001b[38;5;66;03m# Se tabela foi encontrada, extrair os dados\u001b[39;00m\n\u001b[32m     57\u001b[39m \u001b[38;5;28;01mif\u001b[39;00m \u001b[38;5;129;01mnot\u001b[39;00m table:\n\u001b[32m---> \u001b[39m\u001b[32m58\u001b[39m     \u001b[38;5;28;01mraise\u001b[39;00m \u001b[38;5;167;01mValueError\u001b[39;00m(\u001b[33mf\u001b[39m\u001b[33m'\u001b[39m\u001b[33mTable \u001b[39m\u001b[38;5;132;01m{\u001b[39;00mtable_id\u001b[38;5;132;01m}\u001b[39;00m\u001b[33m not found!\u001b[39m\u001b[33m'\u001b[39m)\n\u001b[32m     60\u001b[39m \u001b[38;5;66;03m# Extrair cabeçalhos\u001b[39;00m\n\u001b[32m     61\u001b[39m thead = table.find(\u001b[33m'\u001b[39m\u001b[33mthead\u001b[39m\u001b[33m'\u001b[39m)\n",
      "\u001b[31mValueError\u001b[39m: Table stats_passing not found!"
     ]
    }
   ],
   "source": [
    "spain_players_scrapped_data = get_data_by_league(player_data[\"Spain\"])"
   ]
  },
  {
   "cell_type": "code",
   "execution_count": null,
   "id": "93973629-3358-4f0e-b5f0-16f0efd690c4",
   "metadata": {},
   "outputs": [],
   "source": [
    "germany_players_scrapped_data = get_data_by_league(player_data[\"Germany\"])"
   ]
  },
  {
   "cell_type": "code",
   "execution_count": null,
   "id": "ee6142f3-b51b-41b1-a376-38920c1bcea3",
   "metadata": {},
   "outputs": [],
   "source": [
    "italy_players_scrapped_data = get_data_by_league(player_data[\"Italy\"])"
   ]
  },
  {
   "cell_type": "code",
   "execution_count": null,
   "id": "30d8164a-4077-46fa-ba43-0d25b079f8a0",
   "metadata": {},
   "outputs": [],
   "source": [
    "france_players_scrapped_data = get_data_by_league(player_data[\"France\"])"
   ]
  },
  {
   "cell_type": "code",
   "execution_count": null,
   "id": "6ccd6363-bc81-482a-a106-f63290aebab4",
   "metadata": {},
   "outputs": [],
   "source": [
    "england_players = reduce(lambda left, right: pd.merge(left, right, on='Player', how='inner'), england_players_scrapped_data)\n",
    "spain_players = reduce(lambda left, right: pd.merge(left, right, on='Player', how='inner'), spain_players_scrapped_data)\n",
    "germany_players = reduce(lambda left, right: pd.merge(left, right, on='Player', how='inner'), germany_players_scrapped_data)\n",
    "italy_players = reduce(lambda left, right: pd.merge(left, right, on='Player', how='inner'), italy_players_scrapped_data)\n",
    "france_players = reduce(lambda left, right: pd.merge(left, right, on='Player', how='inner'), france_players_scrapped_data)\n",
    "enhanced_players = pd.concat([england_players, spain_players, germany_players, italy_players, france_players], ignore_index=True)\n",
    "enhanced_players.to_csv('data/players_scrapped.csv', index=False)"
   ]
  },
  {
   "cell_type": "code",
   "execution_count": 7,
   "id": "0d275b9a-c03e-4cc2-9b22-55c6f34da39f",
   "metadata": {},
   "outputs": [],
   "source": [
    "players_merged = save_players_merged(\"data/\")\n",
    "players_merged.to_csv('data/players_merged.csv', index=False)"
   ]
  },
  {
   "cell_type": "markdown",
   "id": "c48015f1-b043-4e09-a810-48240e68ca19",
   "metadata": {},
   "source": [
    "### Funções auxiliares"
   ]
  },
  {
   "cell_type": "code",
   "execution_count": 14,
   "id": "089da76c-a97b-4882-9d6f-b0a5b236310d",
   "metadata": {},
   "outputs": [
    {
     "name": "stderr",
     "output_type": "stream",
     "text": [
      "100%|██████████| 1/1 [00:05<00:00,  5.48s/it]\n"
     ]
    }
   ],
   "source": [
    "leagues = ['England']\n",
    "# leagues = ['England', 'Spain', 'Germany', 'Italy', 'France']\n",
    "events = {}\n",
    "matches = {}\n",
    "\n",
    "for league in tqdm(leagues):\n",
    "    path = r'data/matches/matches_{}.json'.format(league)\n",
    "    matches[league] = load_matches(path)\n",
    "    path = r'data/events/events_{}.json'.format(league)\n",
    "    events[league] = load_events(path)\n",
    "\n",
    "path = r'data/'\n",
    "players = load_players(path)\n",
    "players['player_name'] = players['player_name'].str.decode('unicode-escape')"
   ]
  },
  {
   "cell_type": "markdown",
   "id": "8861984e-51b1-4f1f-83fe-fca1c9825846",
   "metadata": {},
   "source": [
    "## Mapeamento para SPADL"
   ]
  },
  {
   "cell_type": "code",
   "execution_count": 15,
   "id": "dc620b65-4e72-45f0-aa64-2afb4b3a10c9",
   "metadata": {},
   "outputs": [
    {
     "ename": "NameError",
     "evalue": "name 'spadl_transform' is not defined",
     "output_type": "error",
     "traceback": [
      "\u001b[31m---------------------------------------------------------------------------\u001b[39m",
      "\u001b[31mNameError\u001b[39m                                 Traceback (most recent call last)",
      "\u001b[36mCell\u001b[39m\u001b[36m \u001b[39m\u001b[32mIn[15]\u001b[39m\u001b[32m, line 3\u001b[39m\n\u001b[32m      1\u001b[39m spadl = {}\n\u001b[32m      2\u001b[39m \u001b[38;5;28;01mfor\u001b[39;00m league \u001b[38;5;129;01min\u001b[39;00m leagues:\n\u001b[32m----> \u001b[39m\u001b[32m3\u001b[39m     spadl[league] = \u001b[43mspadl_transform\u001b[49m(events=events[league], matches=matches[league])\n\u001b[32m      4\u001b[39m     \u001b[38;5;66;03m# Adicionando o nome dos players\u001b[39;00m\n\u001b[32m      5\u001b[39m     spadl[league] = spadl[league].merge(players[[\u001b[33m'\u001b[39m\u001b[33mplayer_id\u001b[39m\u001b[33m'\u001b[39m, \u001b[33m'\u001b[39m\u001b[33mplayer_name\u001b[39m\u001b[33m'\u001b[39m]], on=\u001b[33m'\u001b[39m\u001b[33mplayer_id\u001b[39m\u001b[33m'\u001b[39m, how=\u001b[33m'\u001b[39m\u001b[33mleft\u001b[39m\u001b[33m'\u001b[39m)\n",
      "\u001b[31mNameError\u001b[39m: name 'spadl_transform' is not defined"
     ]
    }
   ],
   "source": [
    "spadl = {}\n",
    "for league in leagues:\n",
    "    spadl[league] = spadl_transform(events=events[league], matches=matches[league])\n",
    "    # Adicionando o nome dos players\n",
    "    spadl[league] = spadl[league].merge(players[['player_id', 'player_name']], on='player_id', how='left')"
   ]
  },
  {
   "cell_type": "markdown",
   "id": "086379e7-b60c-42a8-b66e-0e88882714a8",
   "metadata": {},
   "source": [
    "## Análise exploratória"
   ]
  },
  {
   "cell_type": "code",
   "execution_count": null,
   "id": "03bfca7a-eb31-41e6-b47a-2b4f59dfa698",
   "metadata": {},
   "outputs": [],
   "source": [
    "spadl['England']"
   ]
  },
  {
   "cell_type": "code",
   "execution_count": null,
   "id": "9e19b478-15eb-4a82-b6d3-9e692b84a27c",
   "metadata": {},
   "outputs": [],
   "source": [
    "spadl['Spain']"
   ]
  },
  {
   "cell_type": "code",
   "execution_count": null,
   "id": "09deefc5-dc36-429d-89d5-f1a8fac135ce",
   "metadata": {},
   "outputs": [],
   "source": [
    "spadl['Germany']"
   ]
  },
  {
   "cell_type": "code",
   "execution_count": null,
   "id": "6ffd9d72-3295-436f-856b-56146ea13536",
   "metadata": {},
   "outputs": [],
   "source": [
    "spadl['Italy']"
   ]
  },
  {
   "cell_type": "code",
   "execution_count": null,
   "id": "cd1c878f-f6e8-4df1-8025-5ffa526bda5d",
   "metadata": {},
   "outputs": [],
   "source": [
    "spadl['France']"
   ]
  },
  {
   "cell_type": "markdown",
   "id": "7ea66de9-823b-4710-8196-b81d1e8e4191",
   "metadata": {},
   "source": [
    "### Players"
   ]
  },
  {
   "cell_type": "code",
   "execution_count": null,
   "id": "af471c6d-1722-4897-a2da-2187f43cee46",
   "metadata": {},
   "outputs": [],
   "source": [
    "players_england = spadl['England']['player_name'].unique()\n",
    "print(\"Número de jogadores na Premier League:\", len(players_england))\n",
    "players_england"
   ]
  },
  {
   "cell_type": "code",
   "execution_count": null,
   "id": "50a7117b-b8d6-4c8f-895a-1d5ef9ad76ca",
   "metadata": {},
   "outputs": [],
   "source": [
    "players_spain = spadl['Spain']['player_name'].unique()\n",
    "print(\"Número de jogadores na La Liga:\", len(players_spain))\n",
    "players_spain"
   ]
  },
  {
   "cell_type": "code",
   "execution_count": null,
   "id": "71986bd0-c349-495d-9300-cab0a936b9c4",
   "metadata": {},
   "outputs": [],
   "source": [
    "players_germany = spadl['Germany']['player_name'].unique()\n",
    "print(\"Número de jogadores na Bundesliga:\", len(players_germany))\n",
    "players_germany"
   ]
  },
  {
   "cell_type": "code",
   "execution_count": null,
   "id": "a1f2d3ea-679d-4928-b8c0-b49970a1faae",
   "metadata": {},
   "outputs": [],
   "source": [
    "players_italy = spadl['Italy']['player_name'].unique()\n",
    "print(\"Número de jogadores na Serie A:\", len(players_italy))\n",
    "players_italy"
   ]
  },
  {
   "cell_type": "code",
   "execution_count": null,
   "id": "3ccd0202-2a88-4af2-bda7-4c95003149b4",
   "metadata": {},
   "outputs": [],
   "source": [
    "players_france = spadl['France']['player_name'].unique()\n",
    "print(\"Número de jogadores na Ligue 1:\", len(players_france))\n",
    "players_france"
   ]
  },
  {
   "cell_type": "markdown",
   "id": "8b22945c-e64a-4074-9722-05b6295fb8f0",
   "metadata": {},
   "source": [
    "### Número médio de ações por jogo em cada liga\n",
    "\n",
    "Observações\n",
    "- Mais ou menos o mesmo número médio de ações por jogo."
   ]
  },
  {
   "cell_type": "code",
   "execution_count": null,
   "id": "487dd11e-d420-4526-94ad-78742b4f057e",
   "metadata": {},
   "outputs": [],
   "source": [
    "spadl['England'].groupby('game_id').size().mean()"
   ]
  },
  {
   "cell_type": "code",
   "execution_count": null,
   "id": "5aaa38b4-e6e2-4694-ab82-f8ac54465634",
   "metadata": {},
   "outputs": [],
   "source": [
    "spadl['Spain'].groupby('game_id').size().mean()"
   ]
  },
  {
   "cell_type": "code",
   "execution_count": null,
   "id": "afb5181f-22a5-472a-80ce-623ffd070199",
   "metadata": {},
   "outputs": [],
   "source": [
    "spadl['Germany'].groupby('game_id').size().mean()"
   ]
  },
  {
   "cell_type": "code",
   "execution_count": null,
   "id": "34b66d79-48cf-45d1-8d30-efb720407cf7",
   "metadata": {},
   "outputs": [],
   "source": [
    "spadl['Italy'].groupby('game_id').size().mean()"
   ]
  },
  {
   "cell_type": "code",
   "execution_count": null,
   "id": "9808d02a-8988-4678-a843-b6f9937c2cd6",
   "metadata": {},
   "outputs": [],
   "source": [
    "spadl['France'].groupby('game_id').size().mean()"
   ]
  },
  {
   "cell_type": "markdown",
   "id": "fe19f966-fa57-49a1-8821-6ae7660bab55",
   "metadata": {},
   "source": [
    "### Distribuição dos Tipos de Ação\n",
    "\n",
    "Histograma com a frequência ded cada tipo de ação existente nos dados analisados.\n",
    "\n",
    "Observações:\n",
    "- Passe é a ação mais comum;\n",
    "- Alternância, a depender da liga, entre interceptações e bolas carregadas como segundo tipo de ação mais realizada;\n",
    "- Ocorrências menos frequentes de lançamentos, cruzamentos, \"chutões\" e desarmes."
   ]
  },
  {
   "cell_type": "code",
   "execution_count": null,
   "id": "2a6b6c37-acf5-47c9-aa9a-d8d763a016b1",
   "metadata": {},
   "outputs": [],
   "source": [
    "plot_action_counts(spadl['England']['type_name'].value_counts())"
   ]
  },
  {
   "cell_type": "code",
   "execution_count": null,
   "id": "e6a68d35-2d10-44b1-ab7c-33704e2499cc",
   "metadata": {},
   "outputs": [],
   "source": [
    "plot_action_counts(spadl['Spain']['type_name'].value_counts())"
   ]
  },
  {
   "cell_type": "code",
   "execution_count": null,
   "id": "f9cff9df-22bb-4981-afbb-7f3af857a350",
   "metadata": {},
   "outputs": [],
   "source": [
    "plot_action_counts(spadl['Germany']['type_name'].value_counts())"
   ]
  },
  {
   "cell_type": "code",
   "execution_count": null,
   "id": "7e158267-f894-4680-a055-72a3128d9406",
   "metadata": {},
   "outputs": [],
   "source": [
    "plot_action_counts(spadl['Italy']['type_name'].value_counts())"
   ]
  },
  {
   "cell_type": "code",
   "execution_count": null,
   "id": "32cc188d-38f5-4da4-a9c3-11b1e18a55a9",
   "metadata": {},
   "outputs": [],
   "source": [
    "plot_action_counts(spadl['France']['type_name'].value_counts())"
   ]
  },
  {
   "cell_type": "markdown",
   "id": "d143f2dd-0287-4ea3-b506-5dd5539b7ccd",
   "metadata": {},
   "source": [
    "### Ações por Jogador\n",
    "\n",
    "Top 10 jogadores com mais ações registradas na liga.\n",
    "\n",
    "Observações:\n",
    "- Os jogadores mais participativos são, em geral, meio campistas ou jogadores muito importantes do time;\n",
    "- O número de ações parece flutuar pouco."
   ]
  },
  {
   "cell_type": "code",
   "execution_count": null,
   "id": "d7f94d03-58d6-4752-96c8-9bddbbd633eb",
   "metadata": {},
   "outputs": [],
   "source": [
    "plot_top_active_players(spadl['England']['player_name'].value_counts().head(10))"
   ]
  },
  {
   "cell_type": "code",
   "execution_count": null,
   "id": "4e8da204-8e8e-4117-9814-dadd73ef52a3",
   "metadata": {},
   "outputs": [],
   "source": [
    "plot_top_active_players(spadl['Spain']['player_name'].value_counts().head(10))"
   ]
  },
  {
   "cell_type": "code",
   "execution_count": null,
   "id": "930df3e0-ec0c-400b-91b0-c29832b4b48d",
   "metadata": {},
   "outputs": [],
   "source": [
    "plot_top_active_players(spadl['Germany']['player_name'].value_counts().head(10))"
   ]
  },
  {
   "cell_type": "code",
   "execution_count": null,
   "id": "35f4ea24-f1f2-411a-9509-5e5674fc1cd5",
   "metadata": {},
   "outputs": [],
   "source": [
    "plot_top_active_players(spadl['Italy']['player_name'].value_counts().head(10))"
   ]
  },
  {
   "cell_type": "code",
   "execution_count": null,
   "id": "47afc3c6-fb28-45e7-afa6-2b66345c9130",
   "metadata": {},
   "outputs": [],
   "source": [
    "plot_top_active_players(spadl['France']['player_name'].value_counts().head(10))"
   ]
  },
  {
   "cell_type": "markdown",
   "id": "b2a89bc8-12c1-48ce-a859-0de2e34bfbfa",
   "metadata": {},
   "source": [
    "### Mapa de Calor dos Passes\n",
    "\n",
    "Mapa de calor dos passes em função das áreas do campo.\n",
    "\n",
    "Observações:\n",
    "- A troca de passes nas 5 ligas segue mais ou menos a mesma distribuição pelo campo;\n",
    "- Pouca troca de passe na área adversária;\n",
    "- Parece comum a existência de um jogador no meio do campo que distribui e conecta a bola entre a defesa e o ataque."
   ]
  },
  {
   "cell_type": "code",
   "execution_count": null,
   "id": "c53e527a-9f83-414f-b32c-5bbc6231d654",
   "metadata": {},
   "outputs": [],
   "source": [
    "england_passes = spadl['England'][spadl['England']['type_name'] == 'pass']\n",
    "plot_pass_heatmap(england_passes)"
   ]
  },
  {
   "cell_type": "code",
   "execution_count": null,
   "id": "30189095-ea82-4a89-ac37-ad81d6646ad1",
   "metadata": {},
   "outputs": [],
   "source": [
    "spain_passes = spadl['Spain'][spadl['Spain']['type_name'] == 'pass']\n",
    "plot_pass_heatmap(spain_passes)"
   ]
  },
  {
   "cell_type": "code",
   "execution_count": null,
   "id": "1ae4bbc3-9987-40c7-a705-5b12ae347e10",
   "metadata": {},
   "outputs": [],
   "source": [
    "germany_passes = spadl['Germany'][spadl['Germany']['type_name'] == 'pass']\n",
    "plot_pass_heatmap(germany_passes)"
   ]
  },
  {
   "cell_type": "code",
   "execution_count": null,
   "id": "b52c7965-03df-4172-85eb-206086705315",
   "metadata": {},
   "outputs": [],
   "source": [
    "italy_passes = spadl['Italy'][spadl['Italy']['type_name'] == 'pass']\n",
    "plot_pass_heatmap(italy_passes)"
   ]
  },
  {
   "cell_type": "code",
   "execution_count": null,
   "id": "5d6a0594-6a71-4890-b372-213522434889",
   "metadata": {},
   "outputs": [],
   "source": [
    "france_passes = spadl['France'][spadl['France']['type_name'] == 'pass']\n",
    "plot_pass_heatmap(france_passes)"
   ]
  },
  {
   "cell_type": "markdown",
   "id": "8f998872-0fea-4a4a-ab82-e0fed092dcab",
   "metadata": {},
   "source": [
    "### Sequência: Ações que Levaram a Gol\n",
    "\n",
    "Histograma com a frequência de cada tipo de ação executada que precedeu um gol.\n",
    "\n",
    "Observações:\n",
    "- Passes e cruzamentos lideram como ações que precedem gols;\n",
    "- Bolas carregadas não resultam em tantos gols;\n",
    "- Na La Liga, rebotes tendem a gerar mais gols do que escanteios."
   ]
  },
  {
   "cell_type": "code",
   "execution_count": null,
   "id": "d59a3139-9d33-48dc-9892-dac6b0dd133c",
   "metadata": {},
   "outputs": [],
   "source": [
    "goal_indices = spadl['England'][(spadl['England']['type_name'] == 'shot') & (spadl['England']['result_name'] == 'success')].index\n",
    "pre_goal_actions = spadl['England'].loc[goal_indices - 1]\n",
    "action_sequences = pre_goal_actions['type_name'].value_counts()\n",
    "plot_action_sequences(action_sequences)"
   ]
  },
  {
   "cell_type": "code",
   "execution_count": null,
   "id": "193a91ec-09fe-464d-bf2f-c331330217b6",
   "metadata": {},
   "outputs": [],
   "source": [
    "goal_indices = spadl['Spain'][(spadl['Spain']['type_name'] == 'shot') & (spadl['Spain']['result_name'] == 'success')].index\n",
    "pre_goal_actions = spadl['Spain'].loc[goal_indices - 1]\n",
    "action_sequences = pre_goal_actions['type_name'].value_counts()\n",
    "plot_action_sequences(action_sequences)"
   ]
  },
  {
   "cell_type": "code",
   "execution_count": null,
   "id": "c6d67840-8b75-4643-adf5-967868e67cb0",
   "metadata": {},
   "outputs": [],
   "source": [
    "goal_indices = spadl['Germany'][(spadl['Germany']['type_name'] == 'shot') & (spadl['Germany']['result_name'] == 'success')].index\n",
    "pre_goal_actions = spadl['Germany'].loc[goal_indices - 1]\n",
    "action_sequences = pre_goal_actions['type_name'].value_counts()\n",
    "plot_action_sequences(action_sequences)"
   ]
  },
  {
   "cell_type": "code",
   "execution_count": null,
   "id": "5c73f30c-e977-439a-be6c-52f7024ec8f4",
   "metadata": {},
   "outputs": [],
   "source": [
    "goal_indices = spadl['Italy'][(spadl['Italy']['type_name'] == 'shot') & (spadl['Italy']['result_name'] == 'success')].index\n",
    "pre_goal_actions = spadl['Italy'].loc[goal_indices - 1]\n",
    "action_sequences = pre_goal_actions['type_name'].value_counts()\n",
    "plot_action_sequences(action_sequences)"
   ]
  },
  {
   "cell_type": "code",
   "execution_count": null,
   "id": "4d444143-b33b-4bd4-82f9-1ea8ff81dca1",
   "metadata": {},
   "outputs": [],
   "source": [
    "goal_indices = spadl['France'][(spadl['France']['type_name'] == 'shot') & (spadl['France']['result_name'] == 'success')].index\n",
    "pre_goal_actions = spadl['France'].loc[goal_indices - 1]\n",
    "action_sequences = pre_goal_actions['type_name'].value_counts()\n",
    "plot_action_sequences(action_sequences)"
   ]
  },
  {
   "cell_type": "markdown",
   "id": "8ad00c21-f0bb-43d6-8e12-c22fa59920f3",
   "metadata": {},
   "source": [
    "### Mapa de Calor de Finalizações\n",
    "\n",
    "Mapa de calor com as finalizações realizadas na liga.\n",
    "\n",
    "Observações:\n",
    "- As 5 ligas seguem o mesmo padrão de finalizações."
   ]
  },
  {
   "cell_type": "code",
   "execution_count": null,
   "id": "1b2f264c-953d-432e-a129-3ed7dcb198f7",
   "metadata": {},
   "outputs": [],
   "source": [
    "plot_shot_heatmap(spadl['England'][spadl['England']['type_name'] == 'shot'])"
   ]
  },
  {
   "cell_type": "code",
   "execution_count": null,
   "id": "9fed5c93-c1df-41fd-985c-1b09c9c2c13f",
   "metadata": {},
   "outputs": [],
   "source": [
    "plot_shot_heatmap(spadl['Spain'][spadl['Spain']['type_name'] == 'shot'])"
   ]
  },
  {
   "cell_type": "code",
   "execution_count": null,
   "id": "0220b772-6552-4bc7-a95b-11eda987d1d7",
   "metadata": {},
   "outputs": [],
   "source": [
    "plot_shot_heatmap(spadl['Germany'][spadl['Germany']['type_name'] == 'shot'])"
   ]
  },
  {
   "cell_type": "code",
   "execution_count": null,
   "id": "e8c22437-e9cc-429b-8a2b-c55185d55fbe",
   "metadata": {},
   "outputs": [],
   "source": [
    "plot_shot_heatmap(spadl['Italy'][spadl['Italy']['type_name'] == 'shot'])"
   ]
  },
  {
   "cell_type": "code",
   "execution_count": null,
   "id": "0a7fc9fd-f391-4951-9b9f-536a50c5a7e3",
   "metadata": {},
   "outputs": [],
   "source": [
    "plot_shot_heatmap(spadl['France'][spadl['France']['type_name'] == 'shot'])"
   ]
  },
  {
   "cell_type": "markdown",
   "id": "4951b337-7642-4934-977d-feb53438c0e7",
   "metadata": {},
   "source": [
    "### Mapa de Assistências\n",
    "\n",
    "Mapa com as setas que indicam passes que antecedem um chute.\n",
    "\n",
    "Observações:\n",
    "- Apenas uma amostra das assistências foram plotadas, para evitar poluição;\n",
    "- As assistências precedem chutes contra o gol adversário, majoritariamente;\n",
    "- Os chutes em sequência partem principalmente da grande área do goleiro adversário."
   ]
  },
  {
   "cell_type": "code",
   "execution_count": null,
   "id": "b83f10f3-f2e1-47af-99f6-5f4d62f1d29d",
   "metadata": {},
   "outputs": [],
   "source": [
    "shot_idx = spadl['England'][spadl['England']['type_name'] == 'shot'].index\n",
    "assist_idx = shot_idx - 1\n",
    "assists = spadl['England'].loc[assist_idx][spadl['England'].loc[assist_idx]['type_name'] == 'pass']\n",
    "plot_assists_heatmap(assists.head(300))"
   ]
  },
  {
   "cell_type": "code",
   "execution_count": null,
   "id": "5c508f6c-9ace-471f-ae6c-92404d7cc91e",
   "metadata": {},
   "outputs": [],
   "source": [
    "shot_idx = spadl['Spain'][spadl['Spain']['type_name'] == 'shot'].index\n",
    "assist_idx = shot_idx - 1\n",
    "assists = spadl['Spain'].loc[assist_idx][spadl['Spain'].loc[assist_idx]['type_name'] == 'pass']\n",
    "plot_assists_heatmap(assists.head(300))"
   ]
  },
  {
   "cell_type": "code",
   "execution_count": null,
   "id": "4f7e1437-3593-440e-b95a-d3a3971018b9",
   "metadata": {},
   "outputs": [],
   "source": [
    "shot_idx = spadl['Germany'][spadl['Germany']['type_name'] == 'shot'].index\n",
    "assist_idx = shot_idx - 1\n",
    "assists = spadl['Germany'].loc[assist_idx][spadl['Germany'].loc[assist_idx]['type_name'] == 'pass']\n",
    "plot_assists_heatmap(assists.head(300))"
   ]
  },
  {
   "cell_type": "code",
   "execution_count": null,
   "id": "3d905d94-5d14-4981-b65b-9441f3de5868",
   "metadata": {},
   "outputs": [],
   "source": [
    "shot_idx = spadl['Italy'][spadl['Italy']['type_name'] == 'shot'].index\n",
    "assist_idx = shot_idx - 1\n",
    "assists = spadl['Italy'].loc[assist_idx][spadl['Italy'].loc[assist_idx]['type_name'] == 'pass']\n",
    "plot_assists_heatmap(assists.head(300))"
   ]
  },
  {
   "cell_type": "code",
   "execution_count": null,
   "id": "dde4d05e-506e-41a1-8845-c47aa09b0ef2",
   "metadata": {},
   "outputs": [],
   "source": [
    "shot_idx = spadl['France'][spadl['France']['type_name'] == 'shot'].index\n",
    "assist_idx = shot_idx - 1\n",
    "assists = spadl['France'].loc[assist_idx][spadl['France'].loc[assist_idx]['type_name'] == 'pass']\n",
    "plot_assists_heatmap(assists.head(300))"
   ]
  },
  {
   "cell_type": "code",
   "execution_count": null,
   "id": "7b7ca893",
   "metadata": {},
   "outputs": [],
   "source": [
    "games = select_random_games(spadl)\n",
    "print(\"Partidas selecionadas:\", games)\n",
    "\n",
    "plot_buildup_last_events(spadl, games, last_n=10)\n",
    "plot_attack_heatmap(spadl, games, bins=30)"
   ]
  },
  {
   "cell_type": "markdown",
   "id": "f66ea519-173c-4276-ae60-ca771929b2da",
   "metadata": {},
   "source": [
    "## Paper - Terinamento do VAEP e cálculo do JOI e JDI"
   ]
  },
  {
   "cell_type": "code",
   "execution_count": null,
   "id": "c76b4940-c64b-42bc-8026-21adae8a061d",
   "metadata": {},
   "outputs": [
    {
     "name": "stderr",
     "output_type": "stream",
     "text": [
      "100%|███████████████████████████████████████████████| 380/380 [00:16<00:00, 23.09it/s]\n",
      "100%|███████████████████████████████████████████████| 380/380 [00:18<00:00, 20.07it/s]\n"
     ]
    }
   ],
   "source": [
    "features = {}\n",
    "labels = {}\n",
    "for league in leagues:\n",
    "    features[league] = features_transform(spadl[league])\n",
    "    features[league] = features[league].astype({\"period_id_a0\": int, \"period_id_a1\": int, \"period_id_a2\": int})\n",
    "    labels[league] = labels_transform(spadl[league])"
   ]
  },
  {
   "cell_type": "code",
   "execution_count": null,
   "id": "f6e272fa-209a-4ca8-8bf1-fa8e6847e115",
   "metadata": {},
   "outputs": [
    {
     "name": "stdout",
     "output_type": "stream",
     "text": [
      "training scores model\n",
      "scores Train NBS: 0.8070185437562029\n",
      "\n",
      "scores Test NBS: 0.8066906690512291\n",
      "\n",
      "----------------------------------------\n",
      "training concedes model\n",
      "concedes Train NBS: 0.9591881632001684\n",
      "\n",
      "concedes Test NBS: 0.966907347830372\n",
      "\n",
      "----------------------------------------\n"
     ]
    }
   ],
   "source": [
    "features_concat = pd.concat(features.values(), ignore_index=True)\n",
    "labels_concat = pd.concat(labels.values(), ignore_index=True)\n",
    "\n",
    "X_train, X_test, y_train, y_test = train_test_split(features_concat, labels_concat, test_size=0.2, random_state=42)\n",
    "models = train_vaep(X_train, y_train, X_test, y_test)"
   ]
  },
  {
   "cell_type": "code",
   "execution_count": null,
   "id": "44f27e04-60fa-4ec4-bbc0-556b82293e3e",
   "metadata": {},
   "outputs": [],
   "source": [
    "preds = {}\n",
    "for league in leagues:\n",
    "    preds[league] = generate_predictions(features=features[league], models=models)"
   ]
  },
  {
   "cell_type": "code",
   "execution_count": null,
   "id": "b8ade707-291f-4b65-b355-6babda1ac2de",
   "metadata": {},
   "outputs": [],
   "source": [
    "action_values = {}\n",
    "for league in leagues:\n",
    "    action_values[league] = calculate_action_values(spadl=spadl[league], predictions=preds[league])"
   ]
  },
  {
   "cell_type": "code",
   "execution_count": null,
   "id": "e91e7ed7-0204-4034-843a-95d29133b00d",
   "metadata": {},
   "outputs": [
    {
     "data": {
      "text/html": [
       "<div>\n",
       "<style scoped>\n",
       "    .dataframe tbody tr th:only-of-type {\n",
       "        vertical-align: middle;\n",
       "    }\n",
       "\n",
       "    .dataframe tbody tr th {\n",
       "        vertical-align: top;\n",
       "    }\n",
       "\n",
       "    .dataframe thead th {\n",
       "        text-align: right;\n",
       "    }\n",
       "</style>\n",
       "<table border=\"1\" class=\"dataframe\">\n",
       "  <thead>\n",
       "    <tr style=\"text-align: right;\">\n",
       "      <th></th>\n",
       "      <th>original_event_id</th>\n",
       "      <th>action_id</th>\n",
       "      <th>game_id</th>\n",
       "      <th>start_x</th>\n",
       "      <th>start_y</th>\n",
       "      <th>end_x</th>\n",
       "      <th>end_y</th>\n",
       "      <th>type_name</th>\n",
       "      <th>result_name</th>\n",
       "      <th>player_id</th>\n",
       "      <th>Pscores</th>\n",
       "      <th>Pconcedes</th>\n",
       "      <th>offensive_value</th>\n",
       "      <th>defensive_value</th>\n",
       "      <th>vaep_value</th>\n",
       "    </tr>\n",
       "  </thead>\n",
       "  <tbody>\n",
       "    <tr>\n",
       "      <th>0</th>\n",
       "      <td>177959171</td>\n",
       "      <td>0</td>\n",
       "      <td>2499719</td>\n",
       "      <td>51.45</td>\n",
       "      <td>34.68</td>\n",
       "      <td>32.55</td>\n",
       "      <td>14.96</td>\n",
       "      <td>pass</td>\n",
       "      <td>success</td>\n",
       "      <td>25413</td>\n",
       "      <td>0.000675</td>\n",
       "      <td>0.000127</td>\n",
       "      <td>0.000000</td>\n",
       "      <td>-0.000000</td>\n",
       "      <td>0.000000</td>\n",
       "    </tr>\n",
       "    <tr>\n",
       "      <th>1</th>\n",
       "      <td>177959172</td>\n",
       "      <td>1</td>\n",
       "      <td>2499719</td>\n",
       "      <td>32.55</td>\n",
       "      <td>14.96</td>\n",
       "      <td>53.55</td>\n",
       "      <td>17.00</td>\n",
       "      <td>pass</td>\n",
       "      <td>success</td>\n",
       "      <td>370224</td>\n",
       "      <td>0.003925</td>\n",
       "      <td>0.000683</td>\n",
       "      <td>0.003250</td>\n",
       "      <td>-0.000556</td>\n",
       "      <td>0.002693</td>\n",
       "    </tr>\n",
       "    <tr>\n",
       "      <th>2</th>\n",
       "      <td>177959173</td>\n",
       "      <td>2</td>\n",
       "      <td>2499719</td>\n",
       "      <td>53.55</td>\n",
       "      <td>17.00</td>\n",
       "      <td>36.75</td>\n",
       "      <td>19.72</td>\n",
       "      <td>pass</td>\n",
       "      <td>success</td>\n",
       "      <td>3319</td>\n",
       "      <td>0.002881</td>\n",
       "      <td>0.000905</td>\n",
       "      <td>-0.001044</td>\n",
       "      <td>-0.000222</td>\n",
       "      <td>-0.001265</td>\n",
       "    </tr>\n",
       "    <tr>\n",
       "      <th>3</th>\n",
       "      <td>177959174</td>\n",
       "      <td>3</td>\n",
       "      <td>2499719</td>\n",
       "      <td>36.75</td>\n",
       "      <td>19.72</td>\n",
       "      <td>43.05</td>\n",
       "      <td>3.40</td>\n",
       "      <td>pass</td>\n",
       "      <td>success</td>\n",
       "      <td>120339</td>\n",
       "      <td>0.003034</td>\n",
       "      <td>0.000719</td>\n",
       "      <td>0.000153</td>\n",
       "      <td>0.000186</td>\n",
       "      <td>0.000340</td>\n",
       "    </tr>\n",
       "    <tr>\n",
       "      <th>4</th>\n",
       "      <td>177959175</td>\n",
       "      <td>4</td>\n",
       "      <td>2499719</td>\n",
       "      <td>43.05</td>\n",
       "      <td>3.40</td>\n",
       "      <td>75.60</td>\n",
       "      <td>8.16</td>\n",
       "      <td>pass</td>\n",
       "      <td>success</td>\n",
       "      <td>167145</td>\n",
       "      <td>0.005474</td>\n",
       "      <td>0.000593</td>\n",
       "      <td>0.002440</td>\n",
       "      <td>0.000126</td>\n",
       "      <td>0.002565</td>\n",
       "    </tr>\n",
       "    <tr>\n",
       "      <th>...</th>\n",
       "      <td>...</td>\n",
       "      <td>...</td>\n",
       "      <td>...</td>\n",
       "      <td>...</td>\n",
       "      <td>...</td>\n",
       "      <td>...</td>\n",
       "      <td>...</td>\n",
       "      <td>...</td>\n",
       "      <td>...</td>\n",
       "      <td>...</td>\n",
       "      <td>...</td>\n",
       "      <td>...</td>\n",
       "      <td>...</td>\n",
       "      <td>...</td>\n",
       "      <td>...</td>\n",
       "    </tr>\n",
       "    <tr>\n",
       "      <th>610378</th>\n",
       "      <td>251596226</td>\n",
       "      <td>1136</td>\n",
       "      <td>2500098</td>\n",
       "      <td>55.65</td>\n",
       "      <td>7.48</td>\n",
       "      <td>103.95</td>\n",
       "      <td>19.04</td>\n",
       "      <td>pass</td>\n",
       "      <td>success</td>\n",
       "      <td>20620</td>\n",
       "      <td>0.081724</td>\n",
       "      <td>0.001691</td>\n",
       "      <td>0.064737</td>\n",
       "      <td>-0.000010</td>\n",
       "      <td>0.064726</td>\n",
       "    </tr>\n",
       "    <tr>\n",
       "      <th>610379</th>\n",
       "      <td>251596229</td>\n",
       "      <td>1137</td>\n",
       "      <td>2500098</td>\n",
       "      <td>103.95</td>\n",
       "      <td>19.04</td>\n",
       "      <td>103.95</td>\n",
       "      <td>19.04</td>\n",
       "      <td>cross</td>\n",
       "      <td>fail</td>\n",
       "      <td>14703</td>\n",
       "      <td>0.032199</td>\n",
       "      <td>0.004769</td>\n",
       "      <td>-0.049525</td>\n",
       "      <td>-0.003078</td>\n",
       "      <td>-0.052603</td>\n",
       "    </tr>\n",
       "    <tr>\n",
       "      <th>610380</th>\n",
       "      <td>251596408</td>\n",
       "      <td>1138</td>\n",
       "      <td>2500098</td>\n",
       "      <td>2.10</td>\n",
       "      <td>46.92</td>\n",
       "      <td>0.00</td>\n",
       "      <td>46.24</td>\n",
       "      <td>interception</td>\n",
       "      <td>success</td>\n",
       "      <td>8239</td>\n",
       "      <td>0.004789</td>\n",
       "      <td>0.036650</td>\n",
       "      <td>0.000020</td>\n",
       "      <td>-0.004450</td>\n",
       "      <td>-0.004430</td>\n",
       "    </tr>\n",
       "    <tr>\n",
       "      <th>610381</th>\n",
       "      <td>251596232</td>\n",
       "      <td>1139</td>\n",
       "      <td>2500098</td>\n",
       "      <td>105.00</td>\n",
       "      <td>0.00</td>\n",
       "      <td>92.40</td>\n",
       "      <td>36.04</td>\n",
       "      <td>corner_crossed</td>\n",
       "      <td>success</td>\n",
       "      <td>70965</td>\n",
       "      <td>0.059718</td>\n",
       "      <td>0.003889</td>\n",
       "      <td>0.013218</td>\n",
       "      <td>-0.003889</td>\n",
       "      <td>0.009330</td>\n",
       "    </tr>\n",
       "    <tr>\n",
       "      <th>610382</th>\n",
       "      <td>251596236</td>\n",
       "      <td>1140</td>\n",
       "      <td>2500098</td>\n",
       "      <td>90.30</td>\n",
       "      <td>34.00</td>\n",
       "      <td>105.00</td>\n",
       "      <td>27.20</td>\n",
       "      <td>shot</td>\n",
       "      <td>fail</td>\n",
       "      <td>8005</td>\n",
       "      <td>0.021311</td>\n",
       "      <td>0.002671</td>\n",
       "      <td>-0.038407</td>\n",
       "      <td>0.001218</td>\n",
       "      <td>-0.037190</td>\n",
       "    </tr>\n",
       "  </tbody>\n",
       "</table>\n",
       "<p>610383 rows × 15 columns</p>\n",
       "</div>"
      ],
      "text/plain": [
       "       original_event_id  action_id  game_id  start_x  start_y   end_x  end_y  \\\n",
       "0              177959171          0  2499719    51.45    34.68   32.55  14.96   \n",
       "1              177959172          1  2499719    32.55    14.96   53.55  17.00   \n",
       "2              177959173          2  2499719    53.55    17.00   36.75  19.72   \n",
       "3              177959174          3  2499719    36.75    19.72   43.05   3.40   \n",
       "4              177959175          4  2499719    43.05     3.40   75.60   8.16   \n",
       "...                  ...        ...      ...      ...      ...     ...    ...   \n",
       "610378         251596226       1136  2500098    55.65     7.48  103.95  19.04   \n",
       "610379         251596229       1137  2500098   103.95    19.04  103.95  19.04   \n",
       "610380         251596408       1138  2500098     2.10    46.92    0.00  46.24   \n",
       "610381         251596232       1139  2500098   105.00     0.00   92.40  36.04   \n",
       "610382         251596236       1140  2500098    90.30    34.00  105.00  27.20   \n",
       "\n",
       "             type_name result_name  player_id   Pscores  Pconcedes  \\\n",
       "0                 pass     success      25413  0.000675   0.000127   \n",
       "1                 pass     success     370224  0.003925   0.000683   \n",
       "2                 pass     success       3319  0.002881   0.000905   \n",
       "3                 pass     success     120339  0.003034   0.000719   \n",
       "4                 pass     success     167145  0.005474   0.000593   \n",
       "...                ...         ...        ...       ...        ...   \n",
       "610378            pass     success      20620  0.081724   0.001691   \n",
       "610379           cross        fail      14703  0.032199   0.004769   \n",
       "610380    interception     success       8239  0.004789   0.036650   \n",
       "610381  corner_crossed     success      70965  0.059718   0.003889   \n",
       "610382            shot        fail       8005  0.021311   0.002671   \n",
       "\n",
       "        offensive_value  defensive_value  vaep_value  \n",
       "0              0.000000        -0.000000    0.000000  \n",
       "1              0.003250        -0.000556    0.002693  \n",
       "2             -0.001044        -0.000222   -0.001265  \n",
       "3              0.000153         0.000186    0.000340  \n",
       "4              0.002440         0.000126    0.002565  \n",
       "...                 ...              ...         ...  \n",
       "610378         0.064737        -0.000010    0.064726  \n",
       "610379        -0.049525        -0.003078   -0.052603  \n",
       "610380         0.000020        -0.004450   -0.004430  \n",
       "610381         0.013218        -0.003889    0.009330  \n",
       "610382        -0.038407         0.001218   -0.037190  \n",
       "\n",
       "[610383 rows x 15 columns]"
      ]
     },
     "execution_count": 69,
     "metadata": {},
     "output_type": "execute_result"
    }
   ],
   "source": [
    "action_values[\"England\"]"
   ]
  },
  {
   "cell_type": "markdown",
   "id": "51f13c9a-1418-40f0-868b-640dc9e06cf6",
   "metadata": {},
   "source": [
    "### Teste JOI"
   ]
  },
  {
   "cell_type": "code",
   "execution_count": null,
   "id": "536fad6d",
   "metadata": {},
   "outputs": [],
   "source": []
  }
 ],
 "metadata": {
  "kernelspec": {
   "display_name": ".venv",
   "language": "python",
   "name": "python3"
  },
  "language_info": {
   "codemirror_mode": {
    "name": "ipython",
    "version": 3
   },
   "file_extension": ".py",
   "mimetype": "text/x-python",
   "name": "python",
   "nbconvert_exporter": "python",
   "pygments_lexer": "ipython3",
   "version": "3.12.10"
  }
 },
 "nbformat": 4,
 "nbformat_minor": 5
}
